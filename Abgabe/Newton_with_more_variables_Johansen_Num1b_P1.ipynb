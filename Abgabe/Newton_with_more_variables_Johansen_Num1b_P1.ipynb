{
 "cells": [
  {
   "cell_type": "markdown",
   "id": "873af386",
   "metadata": {},
   "source": [
    "# Newton Method with More Variables\n",
    "\n",
    "### Alexandra Christine Johansen\n",
    "### Numerische Mathematik 1b, Project 1, WiSe 2023/24\n"
   ]
  },
  {
   "cell_type": "code",
   "execution_count": 1,
   "id": "ff313e76",
   "metadata": {},
   "outputs": [
    {
     "name": "stdout",
     "output_type": "stream",
     "text": [
      "Example 4: Two non intersecting circles\n"
     ]
    },
    {
     "ename": "UnboundLocalError",
     "evalue": "local variable 'k_end' referenced before assignment",
     "output_type": "error",
     "traceback": [
      "\u001b[0;31m---------------------------------------------------------------------------\u001b[0m",
      "\u001b[0;31mUnboundLocalError\u001b[0m                         Traceback (most recent call last)",
      "\u001b[0;32m/var/folders/tz/lp7dndld3bjdmmkdkr212wnr0000gn/T/ipykernel_91231/2237001806.py\u001b[0m in \u001b[0;36m<module>\u001b[0;34m\u001b[0m\n\u001b[1;32m      2\u001b[0m \u001b[0;32mfrom\u001b[0m \u001b[0mnewton_more_variables\u001b[0m \u001b[0;32mimport\u001b[0m \u001b[0mnewton_method1\u001b[0m\u001b[0;34m\u001b[0m\u001b[0;34m\u001b[0m\u001b[0m\n\u001b[1;32m      3\u001b[0m \u001b[0;32mfrom\u001b[0m \u001b[0mnewton_plots\u001b[0m \u001b[0;32mimport\u001b[0m \u001b[0mplot_intersection\u001b[0m\u001b[0;34m\u001b[0m\u001b[0;34m\u001b[0m\u001b[0m\n\u001b[0;32m----> 4\u001b[0;31m \u001b[0;32mfrom\u001b[0m \u001b[0mnewton_examples\u001b[0m \u001b[0;32mimport\u001b[0m \u001b[0mex1\u001b[0m\u001b[0;34m,\u001b[0m \u001b[0mex2\u001b[0m\u001b[0;34m,\u001b[0m \u001b[0mex3\u001b[0m\u001b[0;34m,\u001b[0m \u001b[0mex4\u001b[0m\u001b[0;34m,\u001b[0m \u001b[0mex5\u001b[0m\u001b[0;34m,\u001b[0m \u001b[0mex6\u001b[0m\u001b[0;34m\u001b[0m\u001b[0;34m\u001b[0m\u001b[0m\n\u001b[0m",
      "\u001b[0;32m~/Desktop/Spyder/num1b_p1_johansen/Abgabe/newton_examples.py\u001b[0m in \u001b[0;36m<module>\u001b[0;34m\u001b[0m\n\u001b[1;32m    229\u001b[0m \u001b[0;34m\u001b[0m\u001b[0m\n\u001b[1;32m    230\u001b[0m \u001b[0mx_init\u001b[0m \u001b[0;34m=\u001b[0m \u001b[0;34m[\u001b[0m\u001b[0;36m1.0\u001b[0m\u001b[0;34m,\u001b[0m \u001b[0;36m0.0\u001b[0m\u001b[0;34m]\u001b[0m\u001b[0;34m\u001b[0m\u001b[0;34m\u001b[0m\u001b[0m\n\u001b[0;32m--> 231\u001b[0;31m \u001b[0mex4\u001b[0m\u001b[0;34m(\u001b[0m\u001b[0mx_init\u001b[0m\u001b[0;34m)\u001b[0m\u001b[0;34m\u001b[0m\u001b[0;34m\u001b[0m\u001b[0m\n\u001b[0m\u001b[1;32m    232\u001b[0m \u001b[0;34m\u001b[0m\u001b[0m\n\u001b[1;32m    233\u001b[0m \u001b[0;31m# Example 5: Two intersecting lines in the plane\u001b[0m\u001b[0;34m\u001b[0m\u001b[0;34m\u001b[0m\u001b[0m\n",
      "\u001b[0;32m~/Desktop/Spyder/num1b_p1_johansen/Abgabe/newton_examples.py\u001b[0m in \u001b[0;36mex4\u001b[0;34m(x_init)\u001b[0m\n\u001b[1;32m    219\u001b[0m             \u001b[0mprint\u001b[0m\u001b[0;34m(\u001b[0m\u001b[0;34m\"Warning occurred during fsolve.\"\u001b[0m\u001b[0;34m)\u001b[0m\u001b[0;34m\u001b[0m\u001b[0;34m\u001b[0m\u001b[0m\n\u001b[1;32m    220\u001b[0m     \u001b[0;32melse\u001b[0m\u001b[0;34m:\u001b[0m\u001b[0;34m\u001b[0m\u001b[0;34m\u001b[0m\u001b[0m\n\u001b[0;32m--> 221\u001b[0;31m         \u001b[0mprint\u001b[0m\u001b[0;34m(\u001b[0m\u001b[0;34mf\"No solution to this LSE for k_max = {k_end}!\"\u001b[0m\u001b[0;34m)\u001b[0m\u001b[0;34m\u001b[0m\u001b[0;34m\u001b[0m\u001b[0m\n\u001b[0m\u001b[1;32m    222\u001b[0m \u001b[0;34m\u001b[0m\u001b[0m\n\u001b[1;32m    223\u001b[0m     \u001b[0;31m# Visualise the solution\u001b[0m\u001b[0;34m\u001b[0m\u001b[0;34m\u001b[0m\u001b[0m\n",
      "\u001b[0;31mUnboundLocalError\u001b[0m: local variable 'k_end' referenced before assignment"
     ]
    }
   ],
   "source": [
    "import numpy as np\n",
    "from newton_more_variables import newton_method1\n",
    "from newton_plots import plot_intersection\n",
    "from newton_examples import ex1, ex2, ex3, ex4, ex5, ex6\n"
   ]
  },
  {
   "cell_type": "code",
   "execution_count": null,
   "id": "0b289294",
   "metadata": {},
   "outputs": [],
   "source": [
    "# Example 1: Intersection of hyperbola and circle\n",
    "x_init = [1.0, 1.0] # converges\n",
    "#x_init = [1.0, 1.0, 1.0] # wont cut dimension checks\n",
    "#x_init = np.array([[1.0, 1.0], [1.0, 1.0]]) # wont cut dimension checks\n",
    "#x_init = [1.0, 0.0] # Jacobian singular\n",
    "ex1(x_init)\n"
   ]
  },
  {
   "cell_type": "code",
   "execution_count": null,
   "id": "11e2e3bd",
   "metadata": {},
   "outputs": [],
   "source": [
    "# Example 2: Intersection of Two Circles\n",
    "#x_init = [-1.0, 1.0]\n",
    "#x_init = [-1.0, -1.0] # fsolve != mysolve ?? Comes from a different angle --> Absolute values equal\n",
    "x_init = [1.0, 1.0]\n",
    "#x_init = [1.0, 4.0]\n",
    "ex2(x_init)"
   ]
  },
  {
   "cell_type": "code",
   "execution_count": null,
   "id": "deb13bec",
   "metadata": {},
   "outputs": [],
   "source": [
    "# Example 3: Three intersecting spheres\n",
    "#x_init = [1.0, 0.0, -1.0]\n",
    "x_init = [-1.0, 0.0, 1.0] # am schnellsten!\n",
    "#x_init = [-1.0, 0.0, -1.0]\n",
    "ex3(x_init)"
   ]
  },
  {
   "cell_type": "code",
   "execution_count": null,
   "id": "69d3dea9",
   "metadata": {},
   "outputs": [],
   "source": [
    "# Example 4: Two non intersecting circles\n",
    "#x_init = [-1.0, 1.0]\n",
    "#x_init = [-1.0, -1.0]\n",
    "x_init = [1.0, 1.0]\n",
    "#x_init = [1.0, 4.0]\n",
    "ex4(x_init)\n"
   ]
  },
  {
   "cell_type": "code",
   "execution_count": null,
   "id": "4c16d51b",
   "metadata": {},
   "outputs": [],
   "source": [
    "# Example 5: Two intersecting lines in the plane\n",
    "x_init = [1.0, 1.0]\n",
    "#x_init = [-1.0, 0.0] # Jacobian singular\n",
    "ex5(x_init)"
   ]
  },
  {
   "cell_type": "code",
   "execution_count": null,
   "id": "3a04ab4c",
   "metadata": {},
   "outputs": [],
   "source": [
    "# Example 6: Three intersecting planes in space\n",
    "#x_init = [1.0, 0.0, -1.0]\n",
    "#x_init = [-1.0, 0.0, 1.0] \n",
    "x_init = [1.0, 1.0, 1.0]\n",
    "ex6(x_init)"
   ]
  },
  {
   "cell_type": "code",
   "execution_count": null,
   "id": "54015d72",
   "metadata": {},
   "outputs": [],
   "source": []
  }
 ],
 "metadata": {
  "kernelspec": {
   "display_name": "Python 3 (ipykernel)",
   "language": "python",
   "name": "python3"
  },
  "language_info": {
   "codemirror_mode": {
    "name": "ipython",
    "version": 3
   },
   "file_extension": ".py",
   "mimetype": "text/x-python",
   "name": "python",
   "nbconvert_exporter": "python",
   "pygments_lexer": "ipython3",
   "version": "3.9.7"
  }
 },
 "nbformat": 4,
 "nbformat_minor": 5
}
