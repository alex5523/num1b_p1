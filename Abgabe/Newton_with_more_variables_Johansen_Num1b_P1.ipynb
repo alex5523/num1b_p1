{
 "cells": [
  {
   "cell_type": "markdown",
   "id": "873af386",
   "metadata": {},
   "source": [
    "# Newton Method with More Variables\n",
    "\n",
    "### Alexandra Christine Johansen\n",
    "### Numerische Mathematik 1b, Project 1, WiSe 2023/24\n"
   ]
  },
  {
   "cell_type": "code",
   "execution_count": 1,
   "id": "f37a7f43",
   "metadata": {},
   "outputs": [
    {
     "name": "stdout",
     "output_type": "stream",
     "text": [
      "Initial Directory: /Users/alexandrajohansen/Desktop/Spyder/num1b_p1_johansen/Abgabe\n"
     ]
    }
   ],
   "source": [
    "\n",
    "import os\n",
    "\n",
    "# Print the initial working directory\n",
    "print('Initial Directory:', os.getcwd())\n",
    "\n",
    "# Change the current working directory\n",
    "#os.chdir('/Users/username/Documents')\n",
    "\n",
    "# Print the current working directory after change\n",
    "#print('Current Directory:', os.getcwd())\n",
    "\n",
    "\n"
   ]
  },
  {
   "cell_type": "code",
   "execution_count": 2,
   "id": "ff313e76",
   "metadata": {},
   "outputs": [
    {
     "ename": "ImportError",
     "evalue": "cannot import name 'plot_intersection' from partially initialized module 'newton_plots' (most likely due to a circular import) (/Users/alexandrajohansen/Desktop/Spyder/num1b_p1_johansen/Abgabe/newton_plots.py)",
     "output_type": "error",
     "traceback": [
      "\u001b[0;31m---------------------------------------------------------------------------\u001b[0m",
      "\u001b[0;31mImportError\u001b[0m                               Traceback (most recent call last)",
      "\u001b[0;32m/var/folders/tz/lp7dndld3bjdmmkdkr212wnr0000gn/T/ipykernel_42103/439774106.py\u001b[0m in \u001b[0;36m<module>\u001b[0;34m\u001b[0m\n\u001b[1;32m      1\u001b[0m \u001b[0;32mimport\u001b[0m \u001b[0mnumpy\u001b[0m \u001b[0;32mas\u001b[0m \u001b[0mnp\u001b[0m\u001b[0;34m\u001b[0m\u001b[0;34m\u001b[0m\u001b[0m\n\u001b[1;32m      2\u001b[0m \u001b[0;32mfrom\u001b[0m \u001b[0mnewton_more_variables\u001b[0m \u001b[0;32mimport\u001b[0m \u001b[0mnewton_method1\u001b[0m\u001b[0;34m\u001b[0m\u001b[0;34m\u001b[0m\u001b[0m\n\u001b[0;32m----> 3\u001b[0;31m \u001b[0;32mfrom\u001b[0m \u001b[0mnewton_plots\u001b[0m \u001b[0;32mimport\u001b[0m \u001b[0mplot_intersection\u001b[0m\u001b[0;34m\u001b[0m\u001b[0;34m\u001b[0m\u001b[0m\n\u001b[0m\u001b[1;32m      4\u001b[0m \u001b[0;32mimport\u001b[0m \u001b[0mnewton_examples\u001b[0m \u001b[0;32mas\u001b[0m \u001b[0mex\u001b[0m\u001b[0;34m\u001b[0m\u001b[0;34m\u001b[0m\u001b[0m\n",
      "\u001b[0;32m~/Desktop/Spyder/num1b_p1_johansen/Abgabe/newton_plots.py\u001b[0m in \u001b[0;36m<module>\u001b[0;34m\u001b[0m\n\u001b[1;32m      9\u001b[0m \u001b[0;32mimport\u001b[0m \u001b[0mmatplotlib\u001b[0m\u001b[0;34m.\u001b[0m\u001b[0mpyplot\u001b[0m \u001b[0;32mas\u001b[0m \u001b[0mplt\u001b[0m\u001b[0;34m\u001b[0m\u001b[0;34m\u001b[0m\u001b[0m\n\u001b[1;32m     10\u001b[0m \u001b[0;32mfrom\u001b[0m \u001b[0mnewton_more_variables\u001b[0m \u001b[0;32mimport\u001b[0m \u001b[0mnewton_method1\u001b[0m\u001b[0;34m\u001b[0m\u001b[0;34m\u001b[0m\u001b[0m\n\u001b[0;32m---> 11\u001b[0;31m \u001b[0;32mimport\u001b[0m \u001b[0mnewton_examples\u001b[0m \u001b[0;32mas\u001b[0m \u001b[0mex\u001b[0m\u001b[0;34m\u001b[0m\u001b[0;34m\u001b[0m\u001b[0m\n\u001b[0m\u001b[1;32m     12\u001b[0m \u001b[0;34m\u001b[0m\u001b[0m\n\u001b[1;32m     13\u001b[0m \u001b[0;31m# Plotting function\u001b[0m\u001b[0;34m\u001b[0m\u001b[0;34m\u001b[0m\u001b[0m\n",
      "\u001b[0;32m~/Desktop/Spyder/num1b_p1_johansen/Abgabe/newton_examples.py\u001b[0m in \u001b[0;36m<module>\u001b[0;34m\u001b[0m\n\u001b[1;32m     10\u001b[0m \u001b[0;32mfrom\u001b[0m \u001b[0mnewton_more_variables\u001b[0m \u001b[0;32mimport\u001b[0m \u001b[0mnewton_method1\u001b[0m\u001b[0;34m\u001b[0m\u001b[0;34m\u001b[0m\u001b[0m\n\u001b[1;32m     11\u001b[0m \u001b[0;32mfrom\u001b[0m \u001b[0mscipy\u001b[0m\u001b[0;34m.\u001b[0m\u001b[0moptimize\u001b[0m \u001b[0;32mimport\u001b[0m \u001b[0mfsolve\u001b[0m\u001b[0;34m\u001b[0m\u001b[0;34m\u001b[0m\u001b[0m\n\u001b[0;32m---> 12\u001b[0;31m \u001b[0;32mfrom\u001b[0m \u001b[0mnewton_plots\u001b[0m \u001b[0;32mimport\u001b[0m \u001b[0mplot_intersection\u001b[0m\u001b[0;34m\u001b[0m\u001b[0;34m\u001b[0m\u001b[0m\n\u001b[0m\u001b[1;32m     13\u001b[0m \u001b[0;34m\u001b[0m\u001b[0m\n\u001b[1;32m     14\u001b[0m \u001b[0;34m\u001b[0m\u001b[0m\n",
      "\u001b[0;31mImportError\u001b[0m: cannot import name 'plot_intersection' from partially initialized module 'newton_plots' (most likely due to a circular import) (/Users/alexandrajohansen/Desktop/Spyder/num1b_p1_johansen/Abgabe/newton_plots.py)"
     ]
    }
   ],
   "source": [
    "import numpy as np\n",
    "from newton_more_variables import newton_method1\n",
    "from newton_plots import plot_intersection\n",
    "import newton_examples as ex\n"
   ]
  },
  {
   "cell_type": "code",
   "execution_count": null,
   "id": "0b289294",
   "metadata": {},
   "outputs": [],
   "source": [
    "# Example 1: Hyperbola and circle\n",
    "x1_vals = np.linspace(-3, 3, 400)\n",
    "x2_vals = np.linspace(-3, 3, 400)\n",
    "plot_intersection(ex.f1, ex.J1, [1.0, 1.0], 'Intersection of a Circle and a Hyperbola', x1_vals, x2_vals)\n"
   ]
  },
  {
   "cell_type": "code",
   "execution_count": null,
   "id": "fe843860",
   "metadata": {},
   "outputs": [],
   "source": [
    "# Example 2: 2 circles\n",
    "x1_vals = np.linspace(-6, 6, 400)\n",
    "x2_vals = np.linspace(-3, 8, 400)\n",
    "plot_intersection(ex.f2, ex.J2, [1.0, 4.0], 'Intersection of Two Circles', x1_vals, x2_vals)\n",
    "print(\"\\nEx2: Two circles\", x)\n",
    "print(\"Newton Method Solution:\", x)\n",
    "print(\"Number of Iterations:\", k_end)\n",
    "\n",
    "\n",
    "\n"
   ]
  },
  {
   "cell_type": "code",
   "execution_count": null,
   "id": "11e2e3bd",
   "metadata": {},
   "outputs": [],
   "source": [
    "# Example 2\n",
    "\n",
    "ex.ex2()"
   ]
  },
  {
   "cell_type": "code",
   "execution_count": null,
   "id": "deb13bec",
   "metadata": {},
   "outputs": [],
   "source": []
  }
 ],
 "metadata": {
  "kernelspec": {
   "display_name": "Python 3 (ipykernel)",
   "language": "python",
   "name": "python3"
  },
  "language_info": {
   "codemirror_mode": {
    "name": "ipython",
    "version": 3
   },
   "file_extension": ".py",
   "mimetype": "text/x-python",
   "name": "python",
   "nbconvert_exporter": "python",
   "pygments_lexer": "ipython3",
   "version": "3.9.7"
  }
 },
 "nbformat": 4,
 "nbformat_minor": 5
}
